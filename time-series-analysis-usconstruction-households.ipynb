{
 "cells": [
  {
   "cell_type": "markdown",
   "id": "6244b9f6",
   "metadata": {
    "papermill": {
     "duration": 0.012789,
     "end_time": "2023-07-07T20:48:49.048678",
     "exception": false,
     "start_time": "2023-07-07T20:48:49.035889",
     "status": "completed"
    },
    "tags": []
   },
   "source": [
    "# Time Series Analysis \n",
    "\n",
    "Decided to do a quick analysis of Construction Spending and Total Households in the US. It's a small dataset, because we have only yearly datapoints, but I hypothesize that they will be strongly related. \n",
    "\n",
    "My analysis includes \n",
    "\n",
    "1. Datasets Explained\n",
    "2. Cleaning & Initial Visualization\n",
    "3. Stationarity Tests - ADFuller and KPSS\n",
    "4. Transformation to Stationary data - difference method\n",
    "5. Vector Autoregressive Model\n",
    "6. Durbin-Watson  Statistic to check for Autoregression\n",
    "7. Granger-Causality Analysis\n",
    "8. Conclusions!"
   ]
  },
  {
   "cell_type": "markdown",
   "id": "cb2e65a4",
   "metadata": {
    "papermill": {
     "duration": 0.009904,
     "end_time": "2023-07-07T20:48:49.069141",
     "exception": false,
     "start_time": "2023-07-07T20:48:49.059237",
     "status": "completed"
    },
    "tags": []
   },
   "source": [
    "# Construction spending explained:\n",
    "\n",
    "https://www.census.gov/construction/c30/definitions.html\n",
    "\n",
    "Observation Start: 2001\n",
    "\n",
    "Observation End : 2019\n",
    "\n",
    "Frequency: Monthly\n",
    "\n",
    "Construction includes the following:\n",
    "\n",
    "1. New buildings and structures.\n",
    "\n",
    "2. Additions, alterations, conversions, expansions, reconstruction, renovations, rehabilitations, and major replacements (such as the complete replacement of a roof or heating system).\n",
    "\n",
    "3. Mechanical and electrical installations\n",
    "\n",
    "4. Site preparation and outside construction of fixed structures or facilities such as sidewalks, highways and streets, parking lots, etc. \n",
    "\n",
    "5. Installation of boilers, overhead hoists and cranes, and blast furnaces.\n",
    "\n",
    "6. Fixed, largely site-fabricated equipment not housed in a building,like storage tanks, refrigeration systems, etc.\n",
    "\n",
    "7. Cost and installation of construction materials \n",
    "\n",
    "VALUE OF CONSTRUCTION PUT IN PLACE\n",
    "The “value of construction put in place” is a measure of the value of construction installed or erected at the site during a given period. For an individual project, this includes—\n",
    "\n",
    "1. Cost of materials installed or erected, Cost of labor, Contractor’s profit, Cost of architectural and engineering work, Miscellaneous overhead and office costs chargeable to the project on the owner’s books and Interest and taxes paid during construction (except for state and locally owned projects).\n",
    "\n",
    "The total value-in-place for a given period is the sum of the value of work done on all projects underway during this period. \n",
    "\n",
    "CLASSIFICATION OF CONSTRUCTION\n",
    "The downloaded dataset only looks at the Residential Construction, which inclues: \n",
    "\n",
    "Residential Buildings\n",
    "New single family\n",
    "New multi-family\n",
    "Includes new apartments and condominiums. \n",
    "\n",
    "State and local includes remodeling, additions, and major replacements, the addition of swimming pools and garages, and replacement of major equipment items such as water heaters. Maintenance and repair work is excluded.\n",
    "\n",
    "Includes remodeling, additions, and major replacements, includes construction of additional housing units in existing residential structures,  Maintenance and repair work is not included.\n",
    "\n",
    "\n"
   ]
  },
  {
   "cell_type": "markdown",
   "id": "69efde00",
   "metadata": {
    "papermill": {
     "duration": 0.009949,
     "end_time": "2023-07-07T20:48:49.089377",
     "exception": false,
     "start_time": "2023-07-07T20:48:49.079428",
     "status": "completed"
    },
    "tags": []
   },
   "source": []
  },
  {
   "cell_type": "markdown",
   "id": "ccf58a82",
   "metadata": {
    "papermill": {
     "duration": 0.009873,
     "end_time": "2023-07-07T20:48:49.109532",
     "exception": false,
     "start_time": "2023-07-07T20:48:49.099659",
     "status": "completed"
    },
    "tags": []
   },
   "source": [
    "# Household Dataset Facts:\n",
    "Observation Start: 1940-01-01\n",
    "\n",
    "Observation End : 2019-01-01\n",
    "\n",
    "Frequency: Yearly\n",
    "\n",
    "\n",
    "Household is an occupied housing unit.\n",
    "Householder is a person in whose name the housing unit is rented or owned. This person must be at least 15 years old.\n",
    "Family household is a household in which there is at least 1 person present who is related to the householder by birth, marriage or adoption.\n",
    "Family is used to refer to a family household. In general, family consists of those related to each other by birth, marriage or adoption.\n",
    "\n",
    "This data uses the householder's person weight to describe characteristics of people living in households. As a result, estimates of the number of households do not match estimates of housing units from the Housing Vacancy Survey (HVS). The HVS is weighted to housing units, rather than the population, in order to more accurately estimate the number of occupied and vacant housing units. For more information about the source and accuracy statement of the Annual Social and Economic Supplement (ASEC) of the Current Population Survey (CPS) see the technical documentation accessible at: http://www.census.gov/programs-surveys/cps/technical-documentation/complete.html"
   ]
  },
  {
   "cell_type": "markdown",
   "id": "be11b166",
   "metadata": {
    "papermill": {
     "duration": 0.010031,
     "end_time": "2023-07-07T20:48:49.129796",
     "exception": false,
     "start_time": "2023-07-07T20:48:49.119765",
     "status": "completed"
    },
    "tags": []
   },
   "source": [
    "## Import and Clean"
   ]
  },
  {
   "cell_type": "code",
   "execution_count": 1,
   "id": "7e0ff4e8",
   "metadata": {
    "execution": {
     "iopub.execute_input": "2023-07-07T20:48:49.152122Z",
     "iopub.status.busy": "2023-07-07T20:48:49.151430Z",
     "iopub.status.idle": "2023-07-07T20:48:49.191186Z",
     "shell.execute_reply": "2023-07-07T20:48:49.190056Z"
    },
    "papermill": {
     "duration": 0.053847,
     "end_time": "2023-07-07T20:48:49.193794",
     "exception": false,
     "start_time": "2023-07-07T20:48:49.139947",
     "status": "completed"
    },
    "tags": []
   },
   "outputs": [
    {
     "name": "stdout",
     "output_type": "stream",
     "text": [
      "There are 80 rows and 4 columns in the households dataset\n",
      "There are 213 rows and 4 columns in the construction dataset\n"
     ]
    }
   ],
   "source": [
    "import numpy as np # linear algebra\n",
    "import pandas as pd # data processing, CSV file I/O (e.g. pd.read_csv)\n",
    "\n",
    "import os\n",
    "\n",
    "households = pd.read_csv('/kaggle/input/total-households-time-series/TTLHH.csv')\n",
    "nRow, nCol = households.shape\n",
    "print(f'There are {nRow} rows and {nCol} columns in the households dataset')\n",
    "\n",
    "#the ID for the  file on residential spending can be found in the residential metadata: total-construction-spending-residential_metadata.json \n",
    "#using the seasonally adjusted rate?\n",
    "construction = pd.read_csv('/kaggle/input/total-construction-spending-data-collection/TLNRESCONS.csv')\n",
    "nRow, nCol = construction.shape\n",
    "print(f'There are {nRow} rows and {nCol} columns in the construction dataset')\n"
   ]
  },
  {
   "cell_type": "code",
   "execution_count": 2,
   "id": "797ef2aa",
   "metadata": {
    "execution": {
     "iopub.execute_input": "2023-07-07T20:48:49.216681Z",
     "iopub.status.busy": "2023-07-07T20:48:49.216276Z",
     "iopub.status.idle": "2023-07-07T20:48:49.264319Z",
     "shell.execute_reply": "2023-07-07T20:48:49.263485Z"
    },
    "papermill": {
     "duration": 0.062193,
     "end_time": "2023-07-07T20:48:49.266493",
     "exception": false,
     "start_time": "2023-07-07T20:48:49.204300",
     "status": "completed"
    },
    "tags": []
   },
   "outputs": [
    {
     "data": {
      "text/html": [
       "<div>\n",
       "<style scoped>\n",
       "    .dataframe tbody tr th:only-of-type {\n",
       "        vertical-align: middle;\n",
       "    }\n",
       "\n",
       "    .dataframe tbody tr th {\n",
       "        vertical-align: top;\n",
       "    }\n",
       "\n",
       "    .dataframe thead th {\n",
       "        text-align: right;\n",
       "    }\n",
       "</style>\n",
       "<table border=\"1\" class=\"dataframe\">\n",
       "  <thead>\n",
       "    <tr style=\"text-align: right;\">\n",
       "      <th></th>\n",
       "      <th>realtime_start</th>\n",
       "      <th>value</th>\n",
       "      <th>date</th>\n",
       "      <th>realtime_end</th>\n",
       "    </tr>\n",
       "  </thead>\n",
       "  <tbody>\n",
       "    <tr>\n",
       "      <th>62</th>\n",
       "      <td>2019-12-06</td>\n",
       "      <td>109297.0</td>\n",
       "      <td>2002-01-01</td>\n",
       "      <td>2019-12-06</td>\n",
       "    </tr>\n",
       "    <tr>\n",
       "      <th>63</th>\n",
       "      <td>2019-12-06</td>\n",
       "      <td>111278.0</td>\n",
       "      <td>2003-01-01</td>\n",
       "      <td>2019-12-06</td>\n",
       "    </tr>\n",
       "    <tr>\n",
       "      <th>64</th>\n",
       "      <td>2019-12-06</td>\n",
       "      <td>112000.0</td>\n",
       "      <td>2004-01-01</td>\n",
       "      <td>2019-12-06</td>\n",
       "    </tr>\n",
       "    <tr>\n",
       "      <th>65</th>\n",
       "      <td>2019-12-06</td>\n",
       "      <td>113343.0</td>\n",
       "      <td>2005-01-01</td>\n",
       "      <td>2019-12-06</td>\n",
       "    </tr>\n",
       "    <tr>\n",
       "      <th>66</th>\n",
       "      <td>2019-12-06</td>\n",
       "      <td>114384.0</td>\n",
       "      <td>2006-01-01</td>\n",
       "      <td>2019-12-06</td>\n",
       "    </tr>\n",
       "  </tbody>\n",
       "</table>\n",
       "</div>"
      ],
      "text/plain": [
       "   realtime_start     value       date realtime_end\n",
       "62     2019-12-06  109297.0 2002-01-01   2019-12-06\n",
       "63     2019-12-06  111278.0 2003-01-01   2019-12-06\n",
       "64     2019-12-06  112000.0 2004-01-01   2019-12-06\n",
       "65     2019-12-06  113343.0 2005-01-01   2019-12-06\n",
       "66     2019-12-06  114384.0 2006-01-01   2019-12-06"
      ]
     },
     "execution_count": 2,
     "metadata": {},
     "output_type": "execute_result"
    }
   ],
   "source": [
    "#CLEANING\n",
    "\n",
    "households = households.replace('.', 0)\n",
    "households = households.astype({'value': float})\n",
    "households['date'] = pd.to_datetime(households['date'])\n",
    "households = households.loc[households['date']>('2001-01-01')]\n",
    "\n",
    "households.head()"
   ]
  },
  {
   "cell_type": "code",
   "execution_count": 3,
   "id": "f61cc8c0",
   "metadata": {
    "execution": {
     "iopub.execute_input": "2023-07-07T20:48:49.289855Z",
     "iopub.status.busy": "2023-07-07T20:48:49.289259Z",
     "iopub.status.idle": "2023-07-07T20:48:49.306492Z",
     "shell.execute_reply": "2023-07-07T20:48:49.305415Z"
    },
    "papermill": {
     "duration": 0.031596,
     "end_time": "2023-07-07T20:48:49.308743",
     "exception": false,
     "start_time": "2023-07-07T20:48:49.277147",
     "status": "completed"
    },
    "tags": []
   },
   "outputs": [
    {
     "data": {
      "text/html": [
       "<div>\n",
       "<style scoped>\n",
       "    .dataframe tbody tr th:only-of-type {\n",
       "        vertical-align: middle;\n",
       "    }\n",
       "\n",
       "    .dataframe tbody tr th {\n",
       "        vertical-align: top;\n",
       "    }\n",
       "\n",
       "    .dataframe thead th {\n",
       "        text-align: right;\n",
       "    }\n",
       "</style>\n",
       "<table border=\"1\" class=\"dataframe\">\n",
       "  <thead>\n",
       "    <tr style=\"text-align: right;\">\n",
       "      <th></th>\n",
       "      <th>realtime_start</th>\n",
       "      <th>value</th>\n",
       "      <th>date</th>\n",
       "      <th>realtime_end</th>\n",
       "      <th>Month</th>\n",
       "    </tr>\n",
       "  </thead>\n",
       "  <tbody>\n",
       "    <tr>\n",
       "      <th>156</th>\n",
       "      <td>2019-11-04</td>\n",
       "      <td>655130</td>\n",
       "      <td>2015-01-01</td>\n",
       "      <td>2019-11-04</td>\n",
       "      <td>1</td>\n",
       "    </tr>\n",
       "    <tr>\n",
       "      <th>168</th>\n",
       "      <td>2019-11-04</td>\n",
       "      <td>713009</td>\n",
       "      <td>2016-01-01</td>\n",
       "      <td>2019-11-04</td>\n",
       "      <td>1</td>\n",
       "    </tr>\n",
       "    <tr>\n",
       "      <th>180</th>\n",
       "      <td>2019-11-04</td>\n",
       "      <td>741550</td>\n",
       "      <td>2017-01-01</td>\n",
       "      <td>2019-11-04</td>\n",
       "      <td>1</td>\n",
       "    </tr>\n",
       "    <tr>\n",
       "      <th>192</th>\n",
       "      <td>2019-11-04</td>\n",
       "      <td>738634</td>\n",
       "      <td>2018-01-01</td>\n",
       "      <td>2019-11-04</td>\n",
       "      <td>1</td>\n",
       "    </tr>\n",
       "    <tr>\n",
       "      <th>204</th>\n",
       "      <td>2019-11-04</td>\n",
       "      <td>767598</td>\n",
       "      <td>2019-01-01</td>\n",
       "      <td>2019-11-04</td>\n",
       "      <td>1</td>\n",
       "    </tr>\n",
       "  </tbody>\n",
       "</table>\n",
       "</div>"
      ],
      "text/plain": [
       "    realtime_start   value       date realtime_end  Month\n",
       "156     2019-11-04  655130 2015-01-01   2019-11-04      1\n",
       "168     2019-11-04  713009 2016-01-01   2019-11-04      1\n",
       "180     2019-11-04  741550 2017-01-01   2019-11-04      1\n",
       "192     2019-11-04  738634 2018-01-01   2019-11-04      1\n",
       "204     2019-11-04  767598 2019-01-01   2019-11-04      1"
      ]
     },
     "execution_count": 3,
     "metadata": {},
     "output_type": "execute_result"
    }
   ],
   "source": [
    "#Lining UP\n",
    "construction.dtypes\n",
    "construction['date'] = pd.to_datetime(construction['date'])\n",
    "construction['Month'] = construction['date'].dt.month \n",
    "construction_yr = construction.loc[construction['Month'] ==1]\n",
    "construction_yr.tail()"
   ]
  },
  {
   "cell_type": "code",
   "execution_count": 4,
   "id": "7ccaf9f7",
   "metadata": {
    "execution": {
     "iopub.execute_input": "2023-07-07T20:48:49.334070Z",
     "iopub.status.busy": "2023-07-07T20:48:49.332403Z",
     "iopub.status.idle": "2023-07-07T20:48:49.345396Z",
     "shell.execute_reply": "2023-07-07T20:48:49.344261Z"
    },
    "papermill": {
     "duration": 0.028018,
     "end_time": "2023-07-07T20:48:49.347623",
     "exception": false,
     "start_time": "2023-07-07T20:48:49.319605",
     "status": "completed"
    },
    "tags": []
   },
   "outputs": [
    {
     "data": {
      "text/html": [
       "<div>\n",
       "<style scoped>\n",
       "    .dataframe tbody tr th:only-of-type {\n",
       "        vertical-align: middle;\n",
       "    }\n",
       "\n",
       "    .dataframe tbody tr th {\n",
       "        vertical-align: top;\n",
       "    }\n",
       "\n",
       "    .dataframe thead th {\n",
       "        text-align: right;\n",
       "    }\n",
       "</style>\n",
       "<table border=\"1\" class=\"dataframe\">\n",
       "  <thead>\n",
       "    <tr style=\"text-align: right;\">\n",
       "      <th></th>\n",
       "      <th>realtime_start</th>\n",
       "      <th>value</th>\n",
       "      <th>date</th>\n",
       "      <th>realtime_end</th>\n",
       "      <th>Month</th>\n",
       "    </tr>\n",
       "  </thead>\n",
       "  <tbody>\n",
       "    <tr>\n",
       "      <th>156</th>\n",
       "      <td>2019-11-04</td>\n",
       "      <td>655130</td>\n",
       "      <td>2015-01-01</td>\n",
       "      <td>2019-11-04</td>\n",
       "      <td>1</td>\n",
       "    </tr>\n",
       "    <tr>\n",
       "      <th>168</th>\n",
       "      <td>2019-11-04</td>\n",
       "      <td>713009</td>\n",
       "      <td>2016-01-01</td>\n",
       "      <td>2019-11-04</td>\n",
       "      <td>1</td>\n",
       "    </tr>\n",
       "    <tr>\n",
       "      <th>180</th>\n",
       "      <td>2019-11-04</td>\n",
       "      <td>741550</td>\n",
       "      <td>2017-01-01</td>\n",
       "      <td>2019-11-04</td>\n",
       "      <td>1</td>\n",
       "    </tr>\n",
       "    <tr>\n",
       "      <th>192</th>\n",
       "      <td>2019-11-04</td>\n",
       "      <td>738634</td>\n",
       "      <td>2018-01-01</td>\n",
       "      <td>2019-11-04</td>\n",
       "      <td>1</td>\n",
       "    </tr>\n",
       "    <tr>\n",
       "      <th>204</th>\n",
       "      <td>2019-11-04</td>\n",
       "      <td>767598</td>\n",
       "      <td>2019-01-01</td>\n",
       "      <td>2019-11-04</td>\n",
       "      <td>1</td>\n",
       "    </tr>\n",
       "  </tbody>\n",
       "</table>\n",
       "</div>"
      ],
      "text/plain": [
       "    realtime_start   value       date realtime_end  Month\n",
       "156     2019-11-04  655130 2015-01-01   2019-11-04      1\n",
       "168     2019-11-04  713009 2016-01-01   2019-11-04      1\n",
       "180     2019-11-04  741550 2017-01-01   2019-11-04      1\n",
       "192     2019-11-04  738634 2018-01-01   2019-11-04      1\n",
       "204     2019-11-04  767598 2019-01-01   2019-11-04      1"
      ]
     },
     "execution_count": 4,
     "metadata": {},
     "output_type": "execute_result"
    }
   ],
   "source": [
    "construction_yr.tail()"
   ]
  },
  {
   "cell_type": "code",
   "execution_count": 5,
   "id": "654c5181",
   "metadata": {
    "execution": {
     "iopub.execute_input": "2023-07-07T20:48:49.372374Z",
     "iopub.status.busy": "2023-07-07T20:48:49.371655Z",
     "iopub.status.idle": "2023-07-07T20:48:51.757194Z",
     "shell.execute_reply": "2023-07-07T20:48:51.756145Z"
    },
    "papermill": {
     "duration": 2.400915,
     "end_time": "2023-07-07T20:48:51.759596",
     "exception": false,
     "start_time": "2023-07-07T20:48:49.358681",
     "status": "completed"
    },
    "tags": []
   },
   "outputs": [
    {
     "data": {
      "image/png": "[encoded data removed]",
      "text/plain": [
       "<Figure size 640x480 with 1 Axes>"
      ]
     },
     "metadata": {},
     "output_type": "display_data"
    }
   ],
   "source": [
    "import seaborn as sns\n",
    "sns.set_theme()\n",
    "plt = sns.lineplot(data=construction_yr, x=\"date\", \n",
    "             y=\"value\").set(title=\"Cost of Residential Construction Per Year\",\n",
    "                           xlabel=\"Year\",ylabel=\"Overall Adjusted Cost\")"
   ]
  },
  {
   "cell_type": "code",
   "execution_count": 6,
   "id": "1e71fce0",
   "metadata": {
    "execution": {
     "iopub.execute_input": "2023-07-07T20:48:51.785728Z",
     "iopub.status.busy": "2023-07-07T20:48:51.785244Z",
     "iopub.status.idle": "2023-07-07T20:48:52.614203Z",
     "shell.execute_reply": "2023-07-07T20:48:52.612993Z"
    },
    "papermill": {
     "duration": 0.845093,
     "end_time": "2023-07-07T20:48:52.616847",
     "exception": false,
     "start_time": "2023-07-07T20:48:51.771754",
     "status": "completed"
    },
    "tags": []
   },
   "outputs": [
    {
     "data": {
      "image/png": "[encoded data removed]",
      "text/plain": [
       "<Figure size 640x480 with 1 Axes>"
      ]
     },
     "metadata": {},
     "output_type": "display_data"
    }
   ],
   "source": [
    "g = sns.lineplot(data=households, x=\"date\", y=\"value\", \n",
    "                 markers = True).set(title=\"Number of Households in the United States Per Year\",\n",
    "                                    xlabel='Year', ylabel='Number of Households')\n"
   ]
  },
  {
   "cell_type": "markdown",
   "id": "50c5ccbd",
   "metadata": {
    "papermill": {
     "duration": 0.012678,
     "end_time": "2023-07-07T20:48:52.642426",
     "exception": false,
     "start_time": "2023-07-07T20:48:52.629748",
     "status": "completed"
    },
    "tags": []
   },
   "source": [
    "## AD Fuller Test \n",
    "\n",
    "We want to see if our time series is stationary.  Hopefully it is - meaning that there are no time-dependent trends or seasons. If not, we have to transform it so that it is.\n",
    "\n",
    "    Null Hypothesis: If this fails to be rejected, it suggests the time series is not stationary\n",
    "\n",
    "    Alternate Hypothesis: If the null hypothesis is rejected, it suggests the time series is stationary"
   ]
  },
  {
   "cell_type": "code",
   "execution_count": 7,
   "id": "e8f890b9",
   "metadata": {
    "execution": {
     "iopub.execute_input": "2023-07-07T20:48:52.670733Z",
     "iopub.status.busy": "2023-07-07T20:48:52.669704Z",
     "iopub.status.idle": "2023-07-07T20:48:53.033309Z",
     "shell.execute_reply": "2023-07-07T20:48:53.032073Z"
    },
    "papermill": {
     "duration": 0.381168,
     "end_time": "2023-07-07T20:48:53.036430",
     "exception": false,
     "start_time": "2023-07-07T20:48:52.655262",
     "status": "completed"
    },
    "tags": []
   },
   "outputs": [],
   "source": [
    "from statsmodels.tsa.stattools import adfuller\n",
    "\n",
    "def ad_fuller(df_col):\n",
    "    adfuller_result = adfuller(df_col)\n",
    "    print(\"Test Statistic: \" + str(adfuller_result[0]))\n",
    "    print(\"p-value: \" + str(adfuller_result[1]))"
   ]
  },
  {
   "cell_type": "code",
   "execution_count": 8,
   "id": "8d236e23",
   "metadata": {
    "execution": {
     "iopub.execute_input": "2023-07-07T20:48:53.065379Z",
     "iopub.status.busy": "2023-07-07T20:48:53.064980Z",
     "iopub.status.idle": "2023-07-07T20:48:53.091157Z",
     "shell.execute_reply": "2023-07-07T20:48:53.089668Z"
    },
    "papermill": {
     "duration": 0.04295,
     "end_time": "2023-07-07T20:48:53.093699",
     "exception": false,
     "start_time": "2023-07-07T20:48:53.050749",
     "status": "completed"
    },
    "tags": []
   },
   "outputs": [
    {
     "name": "stdout",
     "output_type": "stream",
     "text": [
      "Test Statistic: 0.8798470650556813\n",
      "p-value: 0.9928216077260427\n"
     ]
    }
   ],
   "source": [
    "ad_fuller(households['value'])"
   ]
  },
  {
   "cell_type": "code",
   "execution_count": 9,
   "id": "4ee94abb",
   "metadata": {
    "execution": {
     "iopub.execute_input": "2023-07-07T20:48:53.121654Z",
     "iopub.status.busy": "2023-07-07T20:48:53.121185Z",
     "iopub.status.idle": "2023-07-07T20:48:53.132098Z",
     "shell.execute_reply": "2023-07-07T20:48:53.130940Z"
    },
    "papermill": {
     "duration": 0.027733,
     "end_time": "2023-07-07T20:48:53.134595",
     "exception": false,
     "start_time": "2023-07-07T20:48:53.106862",
     "status": "completed"
    },
    "tags": []
   },
   "outputs": [
    {
     "name": "stdout",
     "output_type": "stream",
     "text": [
      "Test Statistic: 2.083288342279014\n",
      "p-value: 0.9987718682000956\n"
     ]
    }
   ],
   "source": [
    "ad_fuller(construction_yr['value'])"
   ]
  },
  {
   "cell_type": "markdown",
   "id": "cec32f22",
   "metadata": {
    "papermill": {
     "duration": 0.01256,
     "end_time": "2023-07-07T20:48:53.160117",
     "exception": false,
     "start_time": "2023-07-07T20:48:53.147557",
     "status": "completed"
    },
    "tags": []
   },
   "source": [
    "Since the p-value is not less than .05, we fail to reject the null hypothesis. This means the time series is non-stationary. In other words, it has some time-dependent structure and does not have constant variance over time.\n",
    "\n",
    "Next, we use a second and more sophistocated test to see if the time series are stationary.\n",
    "\n",
    "\n",
    "## KPSS Test \n",
    "\n",
    "The KPSS test figures out if a time series is stationary around a mean or linear trend, or is non-stationary due to a unit root.\n",
    "\n",
    "Null hypothesis: The time series is stationary\n",
    "\n",
    "Alternative hypothesis: The time series is not stationary"
   ]
  },
  {
   "cell_type": "code",
   "execution_count": 10,
   "id": "28e202a1",
   "metadata": {
    "execution": {
     "iopub.execute_input": "2023-07-07T20:48:53.187714Z",
     "iopub.status.busy": "2023-07-07T20:48:53.187304Z",
     "iopub.status.idle": "2023-07-07T20:48:53.195676Z",
     "shell.execute_reply": "2023-07-07T20:48:53.194614Z"
    },
    "papermill": {
     "duration": 0.025056,
     "end_time": "2023-07-07T20:48:53.198173",
     "exception": false,
     "start_time": "2023-07-07T20:48:53.173117",
     "status": "completed"
    },
    "tags": []
   },
   "outputs": [
    {
     "name": "stdout",
     "output_type": "stream",
     "text": [
      "KPSS Statistic: 0.5155202784550094\n",
      "p-value: 0.038171108456078975\n",
      "num lags: 2\n",
      "Critial Values:\n",
      "   10% : 0.347\n",
      "   5% : 0.463\n",
      "   2.5% : 0.574\n",
      "   1% : 0.739\n",
      "the p-value is less than 0.05, so we can reject the null hypothesis. This suggests the time series is not stationary\n"
     ]
    }
   ],
   "source": [
    "from statsmodels.tsa.stattools import kpss\n",
    "\n",
    "def kpss_test(df):    \n",
    "    statistic, p_value, n_lags, critical_values = kpss(df.values)\n",
    "    \n",
    "    print(f'KPSS Statistic: {statistic}')\n",
    "    print(f'p-value: {p_value}')\n",
    "    print(f'num lags: {n_lags}')\n",
    "    print('Critial Values:')\n",
    "    for key, value in critical_values.items():\n",
    "        print(f'   {key} : {value}')\n",
    "\n",
    "kpss_test(construction_yr['value'])\n",
    "print(\"the p-value is less than 0.05, so we can reject the null hypothesis. This suggests the time series is not stationary\")"
   ]
  },
  {
   "cell_type": "code",
   "execution_count": 11,
   "id": "03caaa7d",
   "metadata": {
    "execution": {
     "iopub.execute_input": "2023-07-07T20:48:53.225791Z",
     "iopub.status.busy": "2023-07-07T20:48:53.225385Z",
     "iopub.status.idle": "2023-07-07T20:48:53.231544Z",
     "shell.execute_reply": "2023-07-07T20:48:53.230430Z"
    },
    "papermill": {
     "duration": 0.022968,
     "end_time": "2023-07-07T20:48:53.234136",
     "exception": false,
     "start_time": "2023-07-07T20:48:53.211168",
     "status": "completed"
    },
    "tags": []
   },
   "outputs": [
    {
     "name": "stdout",
     "output_type": "stream",
     "text": [
      "KPSS Statistic: 0.7068402824700176\n",
      "p-value: 0.01292361068454385\n",
      "num lags: 2\n",
      "Critial Values:\n",
      "   10% : 0.347\n",
      "   5% : 0.463\n",
      "   2.5% : 0.574\n",
      "   1% : 0.739\n",
      "the p-value is less than 0.05, so we can reject the null hypothesis. This suggests the time series is not stationary\n"
     ]
    }
   ],
   "source": [
    "kpss_test(households['value'])\n",
    "print(\"the p-value is less than 0.05, so we can reject the null hypothesis. This suggests the time series is not stationary\")"
   ]
  },
  {
   "cell_type": "markdown",
   "id": "b2c049d2",
   "metadata": {
    "papermill": {
     "duration": 0.012632,
     "end_time": "2023-07-07T20:48:53.259847",
     "exception": false,
     "start_time": "2023-07-07T20:48:53.247215",
     "status": "completed"
    },
    "tags": []
   },
   "source": [
    "The ADF and KPSS test agree - these time series are not stationary. Therefore, we must transform them to continue this analysis.  \n",
    "\n",
    "## Transform Time Series: Difference Method\n",
    "\n",
    "Differencing is a method of transforming a time series dataset.\n",
    "\n",
    "It can be used to remove the series dependence on time, so-called temporal dependence. This includes structures like trends and seasonality.\n",
    "\n",
    "Differencing is performed by subtracting the previous observation from the current observation."
   ]
  },
  {
   "cell_type": "code",
   "execution_count": 12,
   "id": "c95261da",
   "metadata": {
    "execution": {
     "iopub.execute_input": "2023-07-07T20:48:53.287636Z",
     "iopub.status.busy": "2023-07-07T20:48:53.287256Z",
     "iopub.status.idle": "2023-07-07T20:48:53.298431Z",
     "shell.execute_reply": "2023-07-07T20:48:53.297296Z"
    },
    "papermill": {
     "duration": 0.028063,
     "end_time": "2023-07-07T20:48:53.301024",
     "exception": false,
     "start_time": "2023-07-07T20:48:53.272961",
     "status": "completed"
    },
    "tags": []
   },
   "outputs": [
    {
     "name": "stderr",
     "output_type": "stream",
     "text": [
      "/tmp/ipykernel_20/379163744.py:1: SettingWithCopyWarning: \n",
      "A value is trying to be set on a copy of a slice from a DataFrame.\n",
      "Try using .loc[row_indexer,col_indexer] = value instead\n",
      "\n",
      "See the caveats in the documentation: https://pandas.pydata.org/pandas-docs/stable/user_guide/indexing.html#returning-a-view-versus-a-copy\n",
      "  construction_yr['diff_value'] = construction_yr.value.diff().dropna()\n"
     ]
    }
   ],
   "source": [
    "construction_yr['diff_value'] = construction_yr.value.diff().dropna()\n",
    "households['diff_value'] = households.value.diff().dropna()\n",
    "construction_yr = construction_yr[1:] #chop off the NaN created at the beginning of the dataframe\n",
    "households = households[1:]"
   ]
  },
  {
   "cell_type": "code",
   "execution_count": 13,
   "id": "126d8acf",
   "metadata": {
    "execution": {
     "iopub.execute_input": "2023-07-07T20:48:53.329312Z",
     "iopub.status.busy": "2023-07-07T20:48:53.328874Z",
     "iopub.status.idle": "2023-07-07T20:48:53.343547Z",
     "shell.execute_reply": "2023-07-07T20:48:53.342428Z"
    },
    "papermill": {
     "duration": 0.031667,
     "end_time": "2023-07-07T20:48:53.345964",
     "exception": false,
     "start_time": "2023-07-07T20:48:53.314297",
     "status": "completed"
    },
    "tags": []
   },
   "outputs": [
    {
     "data": {
      "text/html": [
       "<div>\n",
       "<style scoped>\n",
       "    .dataframe tbody tr th:only-of-type {\n",
       "        vertical-align: middle;\n",
       "    }\n",
       "\n",
       "    .dataframe tbody tr th {\n",
       "        vertical-align: top;\n",
       "    }\n",
       "\n",
       "    .dataframe thead th {\n",
       "        text-align: right;\n",
       "    }\n",
       "</style>\n",
       "<table border=\"1\" class=\"dataframe\">\n",
       "  <thead>\n",
       "    <tr style=\"text-align: right;\">\n",
       "      <th></th>\n",
       "      <th>realtime_start</th>\n",
       "      <th>value</th>\n",
       "      <th>date</th>\n",
       "      <th>realtime_end</th>\n",
       "      <th>Month</th>\n",
       "      <th>diff_value</th>\n",
       "    </tr>\n",
       "  </thead>\n",
       "  <tbody>\n",
       "    <tr>\n",
       "      <th>12</th>\n",
       "      <td>2019-11-04</td>\n",
       "      <td>440816</td>\n",
       "      <td>2003-01-01</td>\n",
       "      <td>2019-11-04</td>\n",
       "      <td>1</td>\n",
       "      <td>-34888.0</td>\n",
       "    </tr>\n",
       "    <tr>\n",
       "      <th>24</th>\n",
       "      <td>2019-11-04</td>\n",
       "      <td>434867</td>\n",
       "      <td>2004-01-01</td>\n",
       "      <td>2019-11-04</td>\n",
       "      <td>1</td>\n",
       "      <td>-5949.0</td>\n",
       "    </tr>\n",
       "    <tr>\n",
       "      <th>36</th>\n",
       "      <td>2019-11-04</td>\n",
       "      <td>464914</td>\n",
       "      <td>2005-01-01</td>\n",
       "      <td>2019-11-04</td>\n",
       "      <td>1</td>\n",
       "      <td>30047.0</td>\n",
       "    </tr>\n",
       "    <tr>\n",
       "      <th>48</th>\n",
       "      <td>2019-11-04</td>\n",
       "      <td>514379</td>\n",
       "      <td>2006-01-01</td>\n",
       "      <td>2019-11-04</td>\n",
       "      <td>1</td>\n",
       "      <td>49465.0</td>\n",
       "    </tr>\n",
       "    <tr>\n",
       "      <th>60</th>\n",
       "      <td>2019-11-04</td>\n",
       "      <td>593821</td>\n",
       "      <td>2007-01-01</td>\n",
       "      <td>2019-11-04</td>\n",
       "      <td>1</td>\n",
       "      <td>79442.0</td>\n",
       "    </tr>\n",
       "  </tbody>\n",
       "</table>\n",
       "</div>"
      ],
      "text/plain": [
       "   realtime_start   value       date realtime_end  Month  diff_value\n",
       "12     2019-11-04  440816 2003-01-01   2019-11-04      1    -34888.0\n",
       "24     2019-11-04  434867 2004-01-01   2019-11-04      1     -5949.0\n",
       "36     2019-11-04  464914 2005-01-01   2019-11-04      1     30047.0\n",
       "48     2019-11-04  514379 2006-01-01   2019-11-04      1     49465.0\n",
       "60     2019-11-04  593821 2007-01-01   2019-11-04      1     79442.0"
      ]
     },
     "execution_count": 13,
     "metadata": {},
     "output_type": "execute_result"
    }
   ],
   "source": [
    "construction_yr.head()"
   ]
  },
  {
   "cell_type": "code",
   "execution_count": 14,
   "id": "40194f42",
   "metadata": {
    "execution": {
     "iopub.execute_input": "2023-07-07T20:48:53.376294Z",
     "iopub.status.busy": "2023-07-07T20:48:53.375860Z",
     "iopub.status.idle": "2023-07-07T20:48:54.211864Z",
     "shell.execute_reply": "2023-07-07T20:48:54.210653Z"
    },
    "papermill": {
     "duration": 0.853562,
     "end_time": "2023-07-07T20:48:54.214558",
     "exception": false,
     "start_time": "2023-07-07T20:48:53.360996",
     "status": "completed"
    },
    "tags": []
   },
   "outputs": [
    {
     "data": {
      "image/png": "[encoded data removed]",
      "text/plain": [
       "<Figure size 640x480 with 1 Axes>"
      ]
     },
     "metadata": {},
     "output_type": "display_data"
    }
   ],
   "source": [
    "g = sns.lineplot(data=households, x=\"date\", y=\"diff_value\", \n",
    "                 markers = True).set(title=\"Transformed & Stationary: Number of Households in the United States Per Year\",\n",
    "                                    xlabel='Year', ylabel='Number of Households')\n"
   ]
  },
  {
   "cell_type": "code",
   "execution_count": 15,
   "id": "f1161325",
   "metadata": {
    "execution": {
     "iopub.execute_input": "2023-07-07T20:48:54.247030Z",
     "iopub.status.busy": "2023-07-07T20:48:54.246580Z",
     "iopub.status.idle": "2023-07-07T20:48:55.025788Z",
     "shell.execute_reply": "2023-07-07T20:48:55.024594Z"
    },
    "papermill": {
     "duration": 0.799323,
     "end_time": "2023-07-07T20:48:55.028668",
     "exception": false,
     "start_time": "2023-07-07T20:48:54.229345",
     "status": "completed"
    },
    "tags": []
   },
   "outputs": [
    {
     "data": {
      "image/png": "[encoded data removed]",
      "text/plain": [
       "<Figure size 640x480 with 1 Axes>"
      ]
     },
     "metadata": {},
     "output_type": "display_data"
    }
   ],
   "source": [
    "g = sns.lineplot(data=construction_yr, x=\"date\", y=\"diff_value\", \n",
    "                 markers = True).set(title=\"Transformed & Stationary: Cost of Construction in the United States Per Year\",\n",
    "                                    xlabel='Year', ylabel='Number of Households')\n"
   ]
  },
  {
   "cell_type": "code",
   "execution_count": 16,
   "id": "a23b57e1",
   "metadata": {
    "execution": {
     "iopub.execute_input": "2023-07-07T20:48:55.061673Z",
     "iopub.status.busy": "2023-07-07T20:48:55.061261Z",
     "iopub.status.idle": "2023-07-07T20:48:55.074026Z",
     "shell.execute_reply": "2023-07-07T20:48:55.072844Z"
    },
    "papermill": {
     "duration": 0.032208,
     "end_time": "2023-07-07T20:48:55.076464",
     "exception": false,
     "start_time": "2023-07-07T20:48:55.044256",
     "status": "completed"
    },
    "tags": []
   },
   "outputs": [
    {
     "name": "stdout",
     "output_type": "stream",
     "text": [
      "~~~~ AD FULLER TEST ~~~~\n",
      "Test Statistic: -2.774316420206624\n",
      "p-value: 0.0620371723693255\n",
      "~~~~ KPSS TEST ~~~~\n",
      "KPSS Statistic: 0.07066370032730576\n",
      "p-value: 0.1\n",
      "num lags: 1\n",
      "Critial Values:\n",
      "   10% : 0.347\n",
      "   5% : 0.463\n",
      "   2.5% : 0.574\n",
      "   1% : 0.739\n"
     ]
    },
    {
     "name": "stderr",
     "output_type": "stream",
     "text": [
      "/opt/conda/lib/python3.10/site-packages/statsmodels/tsa/stattools.py:2022: InterpolationWarning: The test statistic is outside of the range of p-values available in the\n",
      "look-up table. The actual p-value is greater than the p-value returned.\n",
      "\n",
      "  warnings.warn(\n"
     ]
    }
   ],
   "source": [
    "print(\"~~~~ AD FULLER TEST ~~~~\")\n",
    "ad_fuller(construction_yr['diff_value']) # the time series is not stationary\n",
    "print(\"~~~~ KPSS TEST ~~~~\")\n",
    "kpss_test(construction_yr['diff_value']) # the time series is stationary"
   ]
  },
  {
   "cell_type": "code",
   "execution_count": 17,
   "id": "b3a732eb",
   "metadata": {
    "execution": {
     "iopub.execute_input": "2023-07-07T20:48:55.109756Z",
     "iopub.status.busy": "2023-07-07T20:48:55.109339Z",
     "iopub.status.idle": "2023-07-07T20:48:55.120797Z",
     "shell.execute_reply": "2023-07-07T20:48:55.119586Z"
    },
    "papermill": {
     "duration": 0.031398,
     "end_time": "2023-07-07T20:48:55.123624",
     "exception": false,
     "start_time": "2023-07-07T20:48:55.092226",
     "status": "completed"
    },
    "tags": []
   },
   "outputs": [
    {
     "name": "stdout",
     "output_type": "stream",
     "text": [
      "~~~~ AD FULLER TEST ~~~~\n",
      "Test Statistic: -5.246328795455623\n",
      "p-value: 7.066187147307745e-06\n",
      "~~~~ KPSS TEST ~~~~\n",
      "KPSS Statistic: 0.10799608849740581\n",
      "p-value: 0.1\n",
      "num lags: 2\n",
      "Critial Values:\n",
      "   10% : 0.347\n",
      "   5% : 0.463\n",
      "   2.5% : 0.574\n",
      "   1% : 0.739\n"
     ]
    },
    {
     "name": "stderr",
     "output_type": "stream",
     "text": [
      "/opt/conda/lib/python3.10/site-packages/statsmodels/tsa/stattools.py:2022: InterpolationWarning: The test statistic is outside of the range of p-values available in the\n",
      "look-up table. The actual p-value is greater than the p-value returned.\n",
      "\n",
      "  warnings.warn(\n"
     ]
    }
   ],
   "source": [
    "print(\"~~~~ AD FULLER TEST ~~~~\")\n",
    "ad_fuller(households['diff_value'])#the time series is stationary\n",
    "print(\"~~~~ KPSS TEST ~~~~\")\n",
    "kpss_test(households['diff_value'])#the time series is stationary"
   ]
  },
  {
   "cell_type": "markdown",
   "id": "8821ef85",
   "metadata": {
    "papermill": {
     "duration": 0.015546,
     "end_time": "2023-07-07T20:48:55.155214",
     "exception": false,
     "start_time": "2023-07-07T20:48:55.139668",
     "status": "completed"
    },
    "tags": []
   },
   "source": [
    "There is some disagreements among the tests - for the construction dataset, the AD Fuller test indicated that the dataset was not stationary, however the KPSS test said otherwise.  For the households test, it seems that both tests indicated the data was stationary.\n",
    "\n",
    "## Vector Autoregressive (VAR) Model\n",
    "\n",
    "This model relates current observations of a model to past observations of itself. The VAR  assumes that the passed time series are stationary. \n",
    "\n",
    "First, we concat the two timeseries into one dataframe:"
   ]
  },
  {
   "cell_type": "code",
   "execution_count": 18,
   "id": "fcc60bde",
   "metadata": {
    "execution": {
     "iopub.execute_input": "2023-07-07T20:48:55.188936Z",
     "iopub.status.busy": "2023-07-07T20:48:55.188515Z",
     "iopub.status.idle": "2023-07-07T20:48:55.216834Z",
     "shell.execute_reply": "2023-07-07T20:48:55.215628Z"
    },
    "papermill": {
     "duration": 0.048048,
     "end_time": "2023-07-07T20:48:55.219303",
     "exception": false,
     "start_time": "2023-07-07T20:48:55.171255",
     "status": "completed"
    },
    "tags": []
   },
   "outputs": [
    {
     "data": {
      "text/html": [
       "<div>\n",
       "<style scoped>\n",
       "    .dataframe tbody tr th:only-of-type {\n",
       "        vertical-align: middle;\n",
       "    }\n",
       "\n",
       "    .dataframe tbody tr th {\n",
       "        vertical-align: top;\n",
       "    }\n",
       "\n",
       "    .dataframe thead th {\n",
       "        text-align: right;\n",
       "    }\n",
       "</style>\n",
       "<table border=\"1\" class=\"dataframe\">\n",
       "  <thead>\n",
       "    <tr style=\"text-align: right;\">\n",
       "      <th></th>\n",
       "      <th>date</th>\n",
       "      <th>diff_value_households</th>\n",
       "      <th>diff_value_construction</th>\n",
       "    </tr>\n",
       "  </thead>\n",
       "  <tbody>\n",
       "    <tr>\n",
       "      <th>63</th>\n",
       "      <td>2003-01-01</td>\n",
       "      <td>1981.0</td>\n",
       "      <td>-34888.0</td>\n",
       "    </tr>\n",
       "    <tr>\n",
       "      <th>64</th>\n",
       "      <td>2004-01-01</td>\n",
       "      <td>722.0</td>\n",
       "      <td>-5949.0</td>\n",
       "    </tr>\n",
       "    <tr>\n",
       "      <th>65</th>\n",
       "      <td>2005-01-01</td>\n",
       "      <td>1343.0</td>\n",
       "      <td>30047.0</td>\n",
       "    </tr>\n",
       "    <tr>\n",
       "      <th>66</th>\n",
       "      <td>2006-01-01</td>\n",
       "      <td>1041.0</td>\n",
       "      <td>49465.0</td>\n",
       "    </tr>\n",
       "    <tr>\n",
       "      <th>67</th>\n",
       "      <td>2007-01-01</td>\n",
       "      <td>1627.0</td>\n",
       "      <td>79442.0</td>\n",
       "    </tr>\n",
       "  </tbody>\n",
       "</table>\n",
       "</div>"
      ],
      "text/plain": [
       "         date  diff_value_households  diff_value_construction\n",
       "63 2003-01-01                 1981.0                 -34888.0\n",
       "64 2004-01-01                  722.0                  -5949.0\n",
       "65 2005-01-01                 1343.0                  30047.0\n",
       "66 2006-01-01                 1041.0                  49465.0\n",
       "67 2007-01-01                 1627.0                  79442.0"
      ]
     },
     "execution_count": 18,
     "metadata": {},
     "output_type": "execute_result"
    }
   ],
   "source": [
    "households_small = households[['date','diff_value']]\n",
    "construction_small = construction_yr[['date','diff_value']]\n",
    "df_complete = households_small.join(construction_small.set_index('date'), on='date',lsuffix='_households', rsuffix='_construction')\n",
    "df = df_complete[['diff_value_households','diff_value_construction']]\n",
    "df_complete.head()"
   ]
  },
  {
   "cell_type": "code",
   "execution_count": 19,
   "id": "08f65bd0",
   "metadata": {
    "execution": {
     "iopub.execute_input": "2023-07-07T20:48:55.253878Z",
     "iopub.status.busy": "2023-07-07T20:48:55.253445Z",
     "iopub.status.idle": "2023-07-07T20:48:55.917607Z",
     "shell.execute_reply": "2023-07-07T20:48:55.916137Z"
    },
    "papermill": {
     "duration": 0.684662,
     "end_time": "2023-07-07T20:48:55.920121",
     "exception": false,
     "start_time": "2023-07-07T20:48:55.235459",
     "status": "completed"
    },
    "tags": []
   },
   "outputs": [
    {
     "name": "stdout",
     "output_type": "stream",
     "text": [
      "Lag Order = 1\n",
      "AIC :  33.73989965862769\n",
      "BIC :  34.02962042946761\n",
      "FPE :  453891319992856.25\n",
      "HQIC:  33.75473573903136 \n",
      "\n",
      "Lag Order = 2\n",
      "AIC :  33.616021738426\n",
      "BIC :  34.08805520582747\n",
      "FPE :  419038017746278.7\n",
      "HQIC:  33.610993595694524 \n",
      "\n",
      "Lag Order = 3\n",
      "AIC :  32.114400498050806\n",
      "BIC :  32.75345782766606\n",
      "FPE :  107835180985512.88\n",
      "HQIC:  32.05524406060554 \n",
      "\n",
      "Lag Order = 4\n",
      "AIC :  32.00294001433949\n",
      "BIC :  32.78517758620931\n",
      "FPE :  150232532986691.28\n",
      "HQIC:  31.84215497210349 \n",
      "\n"
     ]
    },
    {
     "name": "stderr",
     "output_type": "stream",
     "text": [
      "/opt/conda/lib/python3.10/site-packages/statsmodels/tsa/base/tsa_model.py:471: ValueWarning: An unsupported index was provided and will be ignored when e.g. forecasting.\n",
      "  self._init_dates(dates, freq)\n"
     ]
    }
   ],
   "source": [
    "from statsmodels.tsa.api import VAR\n",
    "\n",
    "model = VAR(df)\n",
    "\n",
    "for i in [1,2,3,4]:\n",
    "    result = model.fit(i)\n",
    "    print('Lag Order =', i)\n",
    "    print('AIC : ', result.aic)\n",
    "    print('BIC : ', result.bic)\n",
    "    print('FPE : ', result.fpe)\n",
    "    print('HQIC: ', result.hqic, '\\n')"
   ]
  },
  {
   "cell_type": "code",
   "execution_count": 20,
   "id": "9295eedb",
   "metadata": {
    "execution": {
     "iopub.execute_input": "2023-07-07T20:48:55.956025Z",
     "iopub.status.busy": "2023-07-07T20:48:55.955415Z",
     "iopub.status.idle": "2023-07-07T20:48:55.977989Z",
     "shell.execute_reply": "2023-07-07T20:48:55.976140Z"
    },
    "papermill": {
     "duration": 0.044713,
     "end_time": "2023-07-07T20:48:55.982368",
     "exception": false,
     "start_time": "2023-07-07T20:48:55.937655",
     "status": "completed"
    },
    "tags": []
   },
   "outputs": [
    {
     "data": {
      "text/plain": [
       "  Summary of Regression Results   \n",
       "==================================\n",
       "Model:                         VAR\n",
       "Method:                        OLS\n",
       "Date:           Fri, 07, Jul, 2023\n",
       "Time:                     20:48:55\n",
       "--------------------------------------------------------------------\n",
       "No. of Equations:         2.00000    BIC:                    32.7852\n",
       "Nobs:                     13.0000    HQIC:                   31.8422\n",
       "Log likelihood:          -226.912    FPE:                1.50233e+14\n",
       "AIC:                      32.0029    Det(Omega_mle):     5.24572e+13\n",
       "--------------------------------------------------------------------\n",
       "Results for equation diff_value_households\n",
       "=============================================================================================\n",
       "                                coefficient       std. error           t-stat            prob\n",
       "---------------------------------------------------------------------------------------------\n",
       "const                          10236.518696      4609.699326            2.221           0.026\n",
       "L1.diff_value_households          -2.609991         1.116317           -2.338           0.019\n",
       "L1.diff_value_construction         0.014072         0.009580            1.469           0.142\n",
       "L2.diff_value_households          -3.388932         1.715216           -1.976           0.048\n",
       "L2.diff_value_construction        -0.010543         0.005375           -1.962           0.050\n",
       "L3.diff_value_households          -1.269808         0.794044           -1.599           0.110\n",
       "L3.diff_value_construction        -0.011796         0.004655           -2.534           0.011\n",
       "L4.diff_value_households          -0.665772         0.656267           -1.014           0.310\n",
       "L4.diff_value_construction        -0.012626         0.007728           -1.634           0.102\n",
       "=============================================================================================\n",
       "\n",
       "Results for equation diff_value_construction\n",
       "=============================================================================================\n",
       "                                coefficient       std. error           t-stat            prob\n",
       "---------------------------------------------------------------------------------------------\n",
       "const                         673833.427085    533495.838745            1.263           0.207\n",
       "L1.diff_value_households        -111.648296       129.195098           -0.864           0.387\n",
       "L1.diff_value_construction         1.896215         1.108671            1.710           0.087\n",
       "L2.diff_value_households        -310.305484       198.507612           -1.563           0.118\n",
       "L2.diff_value_construction        -0.763662         0.622035           -1.228           0.220\n",
       "L3.diff_value_households         -90.868060        91.897365           -0.989           0.323\n",
       "L3.diff_value_construction        -0.616735         0.538715           -1.145           0.252\n",
       "L4.diff_value_households         -67.735211        75.951909           -0.892           0.372\n",
       "L4.diff_value_construction        -1.463551         0.894341           -1.636           0.102\n",
       "=============================================================================================\n",
       "\n",
       "Correlation matrix of residuals\n",
       "                           diff_value_households  diff_value_construction\n",
       "diff_value_households                   1.000000                 0.915077\n",
       "diff_value_construction                 0.915077                 1.000000\n",
       "\n"
      ]
     },
     "execution_count": 20,
     "metadata": {},
     "output_type": "execute_result"
    }
   ],
   "source": [
    "results = model.fit(maxlags=4, ic='aic')\n",
    "results.summary()"
   ]
  },
  {
   "cell_type": "markdown",
   "id": "2ceae615",
   "metadata": {
    "papermill": {
     "duration": 0.033574,
     "end_time": "2023-07-07T20:48:56.050323",
     "exception": false,
     "start_time": "2023-07-07T20:48:56.016749",
     "status": "completed"
    },
    "tags": []
   },
   "source": [
    "The correlation is quite large between the amount of households  and the amount of residential construction. That is what I expected. It also looks like a lag of 4 is optimal, as it minimizes the AIC, BIC and HQ. \n",
    "\n",
    "## Durbin-Watson Statistic\n",
    "\n",
    "The Durbin Watson Test is a measure of autocorrelation in residuals from regression analysis.\n",
    "\n",
    "The value of d always lies between 0 and 4. If the Durbin–Watson statistic is substantially less than 2, there is evidence of positive serial correlation. As a rough rule of thumb, if Durbin–Watson is less than 1.0, there may be cause for alarm. Small values of d indicate successive error terms are positively correlated. If d > 2, successive error terms are negatively correlated. "
   ]
  },
  {
   "cell_type": "code",
   "execution_count": 21,
   "id": "6579da80",
   "metadata": {
    "execution": {
     "iopub.execute_input": "2023-07-07T20:48:56.103867Z",
     "iopub.status.busy": "2023-07-07T20:48:56.103028Z",
     "iopub.status.idle": "2023-07-07T20:48:56.114796Z",
     "shell.execute_reply": "2023-07-07T20:48:56.113355Z"
    },
    "papermill": {
     "duration": 0.032421,
     "end_time": "2023-07-07T20:48:56.117112",
     "exception": false,
     "start_time": "2023-07-07T20:48:56.084691",
     "status": "completed"
    },
    "tags": []
   },
   "outputs": [
    {
     "name": "stdout",
     "output_type": "stream",
     "text": [
      "diff_value_households : 2.96\n",
      "diff_value_construction : 2.76\n"
     ]
    }
   ],
   "source": [
    "from statsmodels.stats.stattools import durbin_watson\n",
    "\n",
    "out = durbin_watson(results.resid)\n",
    "\n",
    "for col, val in zip(df.columns, out):\n",
    "    print(col, ':', round(val, 2))"
   ]
  },
  {
   "cell_type": "markdown",
   "id": "086884dd",
   "metadata": {
    "papermill": {
     "duration": 0.016254,
     "end_time": "2023-07-07T20:48:56.150821",
     "exception": false,
     "start_time": "2023-07-07T20:48:56.134567",
     "status": "completed"
    },
    "tags": []
   },
   "source": [
    "There is no strong indication of autocorrelation in the above variables. \n",
    "\n",
    "## Granger Causality Test\n",
    "\n"
   ]
  },
  {
   "cell_type": "code",
   "execution_count": 22,
   "id": "88b6c936",
   "metadata": {
    "execution": {
     "iopub.execute_input": "2023-07-07T20:48:56.185310Z",
     "iopub.status.busy": "2023-07-07T20:48:56.184888Z",
     "iopub.status.idle": "2023-07-07T20:48:56.246201Z",
     "shell.execute_reply": "2023-07-07T20:48:56.245081Z"
    },
    "papermill": {
     "duration": 0.081681,
     "end_time": "2023-07-07T20:48:56.248858",
     "exception": false,
     "start_time": "2023-07-07T20:48:56.167177",
     "status": "completed"
    },
    "tags": []
   },
   "outputs": [
    {
     "data": {
      "text/html": [
       "<div>\n",
       "<style scoped>\n",
       "    .dataframe tbody tr th:only-of-type {\n",
       "        vertical-align: middle;\n",
       "    }\n",
       "\n",
       "    .dataframe tbody tr th {\n",
       "        vertical-align: top;\n",
       "    }\n",
       "\n",
       "    .dataframe thead th {\n",
       "        text-align: right;\n",
       "    }\n",
       "</style>\n",
       "<table border=\"1\" class=\"dataframe\">\n",
       "  <thead>\n",
       "    <tr style=\"text-align: right;\">\n",
       "      <th></th>\n",
       "      <th>diff_value_households_x</th>\n",
       "      <th>diff_value_construction_x</th>\n",
       "    </tr>\n",
       "  </thead>\n",
       "  <tbody>\n",
       "    <tr>\n",
       "      <th>diff_value_households_y</th>\n",
       "      <td>1.0</td>\n",
       "      <td>0.0</td>\n",
       "    </tr>\n",
       "    <tr>\n",
       "      <th>diff_value_construction_y</th>\n",
       "      <td>0.0</td>\n",
       "      <td>1.0</td>\n",
       "    </tr>\n",
       "  </tbody>\n",
       "</table>\n",
       "</div>"
      ],
      "text/plain": [
       "                           diff_value_households_x  diff_value_construction_x\n",
       "diff_value_households_y                        1.0                        0.0\n",
       "diff_value_construction_y                      0.0                        1.0"
      ]
     },
     "execution_count": 22,
     "metadata": {},
     "output_type": "execute_result"
    }
   ],
   "source": [
    "from statsmodels.tsa.stattools import grangercausalitytests\n",
    "\n",
    "maxlag=4\n",
    "test = 'ssr_chi2test'\n",
    "\n",
    "def grangers_causation_matrix(data, variables, test='ssr_chi2test', verbose=False):    \n",
    "   \n",
    "    df = pd.DataFrame(np.zeros((len(variables), len(variables))), columns=variables, index=variables)\n",
    "    for c in df.columns:\n",
    "        for r in df.index:\n",
    "            test_result = grangercausalitytests(data[[r, c]], maxlag=maxlag, verbose=False)\n",
    "            p_values = [round(test_result[i+1][0][test][1],4) for i in range(maxlag)]\n",
    "            if verbose: print(f'Y = {r}, X = {c}, P Values = {p_values}')\n",
    "            min_p_value = np.min(p_values)\n",
    "            df.loc[r, c] = min_p_value\n",
    "    df.columns = [var + '_x' for var in variables]\n",
    "    df.index = [var + '_y' for var in variables]\n",
    "    return df\n",
    "\n",
    "grangers_causation_matrix(df, variables = df.columns)"
   ]
  },
  {
   "cell_type": "markdown",
   "id": "c4bcb18d",
   "metadata": {
    "papermill": {
     "duration": 0.019458,
     "end_time": "2023-07-07T20:48:56.285927",
     "exception": false,
     "start_time": "2023-07-07T20:48:56.266469",
     "status": "completed"
    },
    "tags": []
   },
   "source": [
    "The above code was taken from an article on towardsdatascience\n",
    "\n",
    "[https://towardsdatascience.com/a-quick-introduction-on-granger-causality-testing-for-time-series-analysis-7113dc9420d2].\n",
    "\n",
    "The row are the response (y) and the columns are the predictors (x). If a given p-value is < significance level (0.05), for example, take the value 0.0 in (row 1, column 2), we can reject the null hypothesis and conclude that walmart_x Granger causes apple_y. Likewise, the 0.0 in (row 2, column 1) refers to walmart_y Granger causes apple_x.\n",
    "\n",
    "All the time series in the above data are interchangeably Granger causing each other.\n",
    "\n"
   ]
  },
  {
   "cell_type": "markdown",
   "id": "716de411",
   "metadata": {
    "papermill": {
     "duration": 0.016653,
     "end_time": "2023-07-07T20:48:56.320236",
     "exception": false,
     "start_time": "2023-07-07T20:48:56.303583",
     "status": "completed"
    },
    "tags": []
   },
   "source": [
    "## Conclusion\n",
    "\n",
    "The data here is weak to begin with, as only one datapoint per year is being analyzed over 16 years. That being said, the analysis did show us what I expected - that construction cost and number of households in the US are strongly related. They pass the Granger causality test both ways - suggesting that they both have influence on each other.  That makes a lot of sense - the construction data includes cost of renovations and major improvements.  So, as the number of households increases, so does the opportunity for construction. In the other direction, construction being done in a residential setting could lead to a new household in the future. \n",
    "\n",
    "\n",
    "\n"
   ]
  }
 ],
 "metadata": {
  "kernelspec": {
   "display_name": "Python 3",
   "language": "python",
   "name": "python3"
  },
  "language_info": {
   "codemirror_mode": {
    "name": "ipython",
    "version": 3
   },
   "file_extension": ".py",
   "mimetype": "text/x-python",
   "name": "python",
   "nbconvert_exporter": "python",
   "pygments_lexer": "ipython3",
   "version": "3.10.10"
  },
  "papermill": {
   "default_parameters": {},
   "duration": 20.591606,
   "end_time": "2023-07-07T20:48:57.359417",
   "environment_variables": {},
   "exception": null,
   "input_path": "__notebook__.ipynb",
   "output_path": "__notebook__.ipynb",
   "parameters": {},
   "start_time": "2023-07-07T20:48:36.767811",
   "version": "2.4.0"
  }
 },
 "nbformat": 4,
 "nbformat_minor": 5
}
